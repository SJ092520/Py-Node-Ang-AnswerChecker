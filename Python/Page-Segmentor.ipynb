{
 "cells": [
  {
   "cell_type": "code",
   "execution_count": 7,
   "id": "c92f3f3e",
   "metadata": {},
   "outputs": [],
   "source": [
    "import numpy as np\n",
    "import cv2\n",
    "\n",
    "gray = cv2.imread('sjfull.jpeg')\n",
    "edges = cv2.Canny(gray,50,150,apertureSize = 3)\n",
    "cv2.imwrite('edges-50-150.jpg',edges)\n",
    "minLineLength=100\n",
    "lines = cv2.HoughLinesP(image=edges,rho=1,theta=np.pi/180, threshold=100,lines=np.array([]), minLineLength=minLineLength,maxLineGap=80)\n",
    "\n",
    "a,b,c = lines.shape\n",
    "for i in range(a):\n",
    "    cv2.line(gray, (lines[i][0][0], lines[i][0][1]), (lines[i][0][2], lines[i][0][3]), (0, 0, 255), 3, cv2.LINE_AA)\n",
    "    cv2.imwrite('houghlines5.jpg',gray)"
   ]
  },
  {
   "cell_type": "code",
   "execution_count": 6,
   "id": "326eff55",
   "metadata": {},
   "outputs": [],
   "source": [
    "from PIL import Image\n",
    "def get_concat_v(im1, im2):\n",
    "    dst = Image.new('RGB', (max(im1.width,im2.width), im1.height + im2.height))\n",
    "    dst.paste(im1, (0, 0))\n",
    "    dst.paste(im2, (0, im1.height))\n",
    "    return dst"
   ]
  },
  {
   "cell_type": "code",
   "execution_count": 7,
   "id": "7e19c556",
   "metadata": {},
   "outputs": [
    {
     "name": "stdout",
     "output_type": "stream",
     "text": [
      "<class 'PIL.Image.Image'>\n"
     ]
    }
   ],
   "source": [
    "from PIL import Image\n",
    "im1 = Image.open('sjcon.jpg')\n",
    "im2 = Image.open('sjcon.jpg')\n",
    "newsize = (2100, 6000)\n",
    "im1 = im1.resize(newsize)\n",
    "im2 = im2.resize(newsize)\n",
    "print(type(im1))\n",
    "# print(im1.width,im2.width,im1.height ,im2.height)\n",
    "get_concat_v(im1, im2).save('sjcon.jpg')\n"
   ]
  },
  {
   "cell_type": "code",
   "execution_count": 4,
   "id": "0595a678",
   "metadata": {
    "scrolled": true
   },
   "outputs": [
    {
     "name": "stdout",
     "output_type": "stream",
     "text": [
      "Requirement already satisfied: pdf2image in /opt/homebrew/Caskroom/miniforge/base/lib/python3.9/site-packages (1.16.0)\n",
      "Requirement already satisfied: pillow in /opt/homebrew/Caskroom/miniforge/base/lib/python3.9/site-packages (from pdf2image) (9.0.1)\n",
      "Note: you may need to restart the kernel to use updated packages.\n"
     ]
    }
   ],
   "source": [
    "pip install pdf2image"
   ]
  },
  {
   "cell_type": "code",
   "execution_count": 4,
   "id": "be8b640b",
   "metadata": {},
   "outputs": [],
   "source": [
    "from pdf2image import convert_from_path\n",
    "from PIL import Image\n",
    "from pdf2image.exceptions import (\n",
    " PDFInfoNotInstalledError,\n",
    " PDFPageCountError,\n",
    " PDFSyntaxError\n",
    ")\n",
    "images = convert_from_path('sj.pdf')\n",
    "counter=0\n",
    "temp_images = []\n",
    "for i, image in enumerate(images):\n",
    "    fname = \"image\" + str(i) + \".png\"\n",
    "    image.save(fname, \"PNG\")\n",
    "    temp_images.append(fname)\n",
    "    counter+=1\n",
    "imgs = list(map(Image.open, temp_images))\n",
    "img_width = 210\n",
    "img_height = 300*(len(temp_images))\n",
    "merged_image = Image.new(imgs[0].mode, (img_width, img_height))\n",
    "newsize = (210, 300)\n",
    "y=0\n",
    "for i,img in enumerate(imgs):\n",
    "    merged_image.paste(img.resize(newsize),(0,y))\n",
    "    y+=300\n",
    "merged_image.save('final',\"JPEG\")\n",
    "#     im=Image.open( \"image\" + str(i) + \".png\")\n",
    "# dst = Image.new('RGB', (max(im1.width,im2.width), im1.height + im2.height))\n",
    "# dst.paste(im1, (0, 0))\n",
    "# dst.paste(im2, (0, im1.height))\n",
    "    \n",
    "    \n"
   ]
  },
  {
   "cell_type": "code",
   "execution_count": null,
   "id": "f699c6b6",
   "metadata": {},
   "outputs": [],
   "source": []
  }
 ],
 "metadata": {
  "kernelspec": {
   "display_name": "Python 3 (ipykernel)",
   "language": "python",
   "name": "python3"
  },
  "language_info": {
   "codemirror_mode": {
    "name": "ipython",
    "version": 3
   },
   "file_extension": ".py",
   "mimetype": "text/x-python",
   "name": "python",
   "nbconvert_exporter": "python",
   "pygments_lexer": "ipython3",
   "version": "3.9.10"
  }
 },
 "nbformat": 4,
 "nbformat_minor": 5
}
